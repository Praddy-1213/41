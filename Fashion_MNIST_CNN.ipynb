{
 "cells": [
  {
   "cell_type": "markdown",
   "id": "b8d02a2f",
   "metadata": {},
   "source": [
    "# Fashion MNIST Classification using CNN"
   ]
  },
  {
   "cell_type": "code",
   "execution_count": null,
   "id": "fd347157",
   "metadata": {},
   "outputs": [],
   "source": [
    "#FASHION_MNIST\n",
    "import pandas as pd\n",
    "import numpy as np\n",
    "import matplotlib.pyplot as plt\n",
    "import seaborn as sns\n",
    "import tensorflow as tf\n",
    "from tensorflow.keras.utils import to_categorical\n",
    "from sklearn.model_selection import train_test_split\n",
    "from sklearn import metrics\n",
    "%matplotlib inline\n",
    "import random\n",
    "import warnings\n",
    "warnings.filterwarnings(\"ignore\")"
   ]
  },
  {
   "cell_type": "code",
   "execution_count": null,
   "id": "c3b14730",
   "metadata": {},
   "outputs": [],
   "source": [
    "df = pd.read_csv('fashion-mnist_test.csv')\n",
    "df.head()\n",
    "labels = df['label'].values\n",
    "images = df.drop('label', axis=1).values\n",
    "images = images.astype('float32') / 255.0\n",
    "images = images.reshape(-1, 28, 28, 1)\n",
    "labels_cat = to_categorical(labels)\n",
    "xtrain, xtest, ytrain, ytest = train_test_split(images, labels_cat, test_size=0.2, random_state=42)\n",
    "class_names = ['T-shirt/top', 'Trouser', 'Pullover', 'Dress', 'Coat', 'Sandal', 'Shirt', 'Sneaker', 'Bag', 'Ankle boot']"
   ]
  },
  {
   "cell_type": "code",
   "execution_count": null,
   "id": "1290494e",
   "metadata": {},
   "outputs": [],
   "source": [
    "plt.figure(figsize=(10,10))\n",
    "for i in range(25):\n",
    "    plt.subplot(5,5,i+1)\n",
    "    plt.xticks([])\n",
    "    plt.yticks([])\n",
    "    plt.grid(False)\n",
    "    plt.imshow(xtrain[i].reshape(28, 28), cmap=plt.cm.binary)\n",
    "    label_index = np.argmax(ytrain[i])\n",
    "    plt.xlabel(class_names[label_index])\n",
    "plt.show()"
   ]
  },
  {
   "cell_type": "code",
   "execution_count": null,
   "id": "5ea41c76",
   "metadata": {},
   "outputs": [],
   "source": [
    "model = tf.keras.models.Sequential([\n",
    "    # First Conv Block\n",
    "    tf.keras.layers.Conv2D(64, (3, 3), padding='same', input_shape=(28, 28, 1)),\n",
    "    tf.keras.layers.BatchNormalization(),\n",
    "    tf.keras.layers.Activation('relu'),\n",
    "    tf.keras.layers.Conv2D(64, (3, 3), padding='same'),\n",
    "    tf.keras.layers.BatchNormalization(),\n",
    "    tf.keras.layers.Activation('relu'),\n",
    "    tf.keras.layers.MaxPooling2D((2, 2)),\n",
    "    # Second Conv Block\n",
    "    tf.keras.layers.Conv2D(128, (3, 3), padding='same'),\n",
    "    tf.keras.layers.BatchNormalization(),\n",
    "    tf.keras.layers.Activation('relu'),\n",
    "    tf.keras.layers.Conv2D(128, (3, 3), padding='same'),\n",
    "    tf.keras.layers.BatchNormalization(),\n",
    "    tf.keras.layers.Activation('relu'),\n",
    "    tf.keras.layers.MaxPooling2D((2, 2)),\n",
    "    # Fully Connected Block\n",
    "    tf.keras.layers.Flatten(),\n",
    "    tf.keras.layers.Dense(128),\n",
    "    tf.keras.layers.BatchNormalization(),\n",
    "    tf.keras.layers.Activation('relu'),\n",
    "    tf.keras.layers.Dropout(0.5),\n",
    "    # Output Layer\n",
    "    tf.keras.layers.Dense(len(class_names), activation='softmax')\n",
    "])\n"
   ]
  },
  {
   "cell_type": "code",
   "execution_count": null,
   "id": "2d868da3",
   "metadata": {},
   "outputs": [],
   "source": [
    "model.compile(loss=\"categorical_crossentropy\", optimizer=\"adam\", metrics=[\"accuracy\"])\n",
    "history = model.fit(xtrain, ytrain, batch_size=32, validation_data=(xtest, ytest), epochs=10)\n"
   ]
  },
  {
   "cell_type": "code",
   "execution_count": null,
   "id": "d99d1b6a",
   "metadata": {},
   "outputs": [],
   "source": [
    "model.summary()\n",
    "evaluation = model.evaluate(xtest, ytest)\n",
    "predictions = model.predict(xtest)\n",
    "predictions = tf.argmax(predictions, axis=1).numpy()\n",
    "y_test = tf.argmax(ytest, axis=1).numpy()\n",
    "print(\"Accuracy:\", metrics.accuracy_score(y_test, predictions))\n",
    "print(metrics.classification_report(y_test, predictions, target_names=class_names))\n"
   ]
  },
  {
   "cell_type": "code",
   "execution_count": null,
   "id": "e39a04fb",
   "metadata": {},
   "outputs": [],
   "source": [
    "plt.figure(figsize=(10,10))\n",
    "for i in range(25):\n",
    "    plt.subplot(5,5,i+1)\n",
    "    plt.xticks([])\n",
    "    plt.yticks([])\n",
    "    plt.grid(False)\n",
    "    plt.imshow(xtest[i].reshape(28, 28), cmap=plt.cm.binary)\n",
    "    plt.title(f\"Pred: {class_names[predictions[i]]}\")\n",
    "plt.show()\n"
   ]
  }
 ],
 "metadata": {
  "language_info": {
   "name": "python"
  }
 },
 "nbformat": 4,
 "nbformat_minor": 5
}
