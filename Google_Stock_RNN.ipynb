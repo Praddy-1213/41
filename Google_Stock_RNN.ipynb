{
 "cells": [
  {
   "cell_type": "markdown",
   "id": "ab0dd163",
   "metadata": {},
   "source": [
    "# Google Stock Price Prediction using RNN"
   ]
  },
  {
   "cell_type": "code",
   "execution_count": null,
   "id": "c100cc73",
   "metadata": {},
   "outputs": [],
   "source": [
    "\n",
    "import numpy as np\n",
    "import pandas as pd\n",
    "import matplotlib.pyplot as plt\n",
    "from sklearn.preprocessing import MinMaxScaler\n",
    "from keras.models import Sequential\n",
    "from keras.layers import SimpleRNN, Dense\n",
    "\n",
    "# Generate dummy stock data\n",
    "dates = pd.date_range('2020-01-01', periods=100)\n",
    "prices = np.sin(np.linspace(0, 20, 100)) + np.random.normal(0, 0.1, 100)\n",
    "df = pd.DataFrame({'Date': dates, 'Close': prices})\n",
    "\n",
    "# Preprocess data\n",
    "scaler = MinMaxScaler()\n",
    "data = scaler.fit_transform(df['Close'].values.reshape(-1, 1))\n",
    "\n",
    "X, y = [], []\n",
    "for i in range(10, len(data)):\n",
    "    X.append(data[i-10:i])\n",
    "    y.append(data[i])\n",
    "X, y = np.array(X), np.array(y)\n",
    "\n",
    "# Build RNN\n",
    "model = Sequential([\n",
    "    SimpleRNN(50, input_shape=(X.shape[1], 1)),\n",
    "    Dense(1)\n",
    "])\n",
    "\n",
    "model.compile(optimizer='adam', loss='mean_squared_error')\n",
    "model.fit(X, y, epochs=20, batch_size=16)\n"
   ]
  }
 ],
 "metadata": {},
 "nbformat": 4,
 "nbformat_minor": 5
}