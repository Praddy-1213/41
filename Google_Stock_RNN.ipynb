{
 "cells": [
  {
   "cell_type": "markdown",
   "id": "ab0dd163",
   "metadata": {},
   "source": [
    "# Google Stock Price Prediction using RNN"
   ]
  },
  {
   "cell_type": "code",
   "execution_count": null,
   "id": "c100cc73",
   "metadata": {},
   "outputs": [],
   "source": [
    "#RNN-GOOGLE STOCK PRICE\n",
    "import numpy as np\n",
    "import pandas as pd\n",
    "import matplotlib.pyplot as plt\n",
    "import seaborn as sns"
   ]
  },
  {
   "cell_type": "code",
   "execution_count": null,
   "id": "dbf0f52d",
   "metadata": {},
   "outputs": [],
   "source": [
    "data = pd.read_csv('Google_Stock_Price_Train.csv')\n",
    "data.head()\n",
    "data.info()\n",
    "data_set = data[['Open']].values\n",
    "train = data_set[:len(data_set)-50]\n",
    "test = data_set[len(train):]\n",
    "train.reshape(train.shape[0],1)\n",
    "train.shape"
   ]
  },
  {
   "cell_type": "code",
   "execution_count": null,
   "id": "96708eef",
   "metadata": {},
   "outputs": [],
   "source": [
    "from sklearn.preprocessing import MinMaxScaler\n",
    "scaler = MinMaxScaler(feature_range=(0,1))\n",
    "train_scaler = scaler.fit_transform(train)\n",
    "plt.plot(train_scaler)\n",
    "plt.show()\n",
    "X_train = []\n",
    "Y_train = []"
   ]
  },
  {
   "cell_type": "code",
   "execution_count": null,
   "id": "8b4bc33f",
   "metadata": {},
   "outputs": [],
   "source": [
    "timesteps = 50\n",
    "for i in range(timesteps, len(train_scaler)):\n",
    "    X_train.append(train_scaler[i-timesteps:i,0])\n",
    "    Y_train.append(train_scaler[i,0])\n",
    "X_train, Y_train = np.array(X_train), np.array(Y_train)\n",
    "X_train = np.reshape(X_train, (X_train.shape[0], X_train.shape[1],1 ))"
   ]
  },
  {
   "cell_type": "code",
   "execution_count": null,
   "id": "b448d464",
   "metadata": {},
   "outputs": [],
   "source": [
    "from keras.models import Sequential\n",
    "from keras.layers import SimpleRNN, Dropout, Dense\n",
    "regressor = Sequential()\n",
    "regressor.add(SimpleRNN(units=50, activation = 'tanh', return_sequences=True, input_shape=(X_train.shape[1],1)))\n",
    "regressor.add(Dropout(0.2))\n",
    "regressor.add(SimpleRNN(units=50, activation = 'tanh', return_sequences=True))\n",
    "regressor.add(Dropout(0.2))\n",
    "regressor.add(SimpleRNN(units=50, activation = 'tanh', return_sequences=True))\n",
    "regressor.add(Dropout(0.2))\n",
    "regressor.add(SimpleRNN(units = 50))\n",
    "regressor.add(Dropout(0.2))\n",
    "regressor.add(Dense(units = 1))"
   ]
  },
  {
   "cell_type": "code",
   "execution_count": null,
   "id": "51d4107b",
   "metadata": {},
   "outputs": [],
   "source": [
    "regressor.compile(optimizer='adam', loss='mean_squared_error')\n",
    "regressor.fit(X_train, Y_train, batch_size = 16, epochs = 20)\n",
    "inputs = data_set[len(data_set) - len(test) - timesteps:]\n",
    "inputs = scaler.transform(inputs)"
   ]
  },
  {
   "cell_type": "code",
   "execution_count": null,
   "id": "0ff9bc2e",
   "metadata": {},
   "outputs": [],
   "source": [
    "X_test = []\n",
    "for i in range(timesteps, inputs.shape[0]):\n",
    "    X_test.append(inputs[i - timesteps:i, 0])\n",
    "X_test_rnn = np.array(X_test)\n",
    "X_test_rnn = np.reshape(X_test_rnn, (X_test_rnn.shape[0], X_test_rnn.shape[1], 1))\n",
    "predicted_stock_price = regressor.predict(X_test_rnn)\n",
    "predicted_stock_price = scaler.inverse_transform(predicted_stock_price)"
   ]
  },
  {
   "cell_type": "code",
   "execution_count": null,
   "id": "af5d21fb",
   "metadata": {},
   "outputs": [],
   "source": [
    "from sklearn import metrics\n",
    "mae = metrics.mean_absolute_error(test, predicted_stock_price)\n",
    "print(\"MAE: \", mae)\n",
    "mse = metrics.mean_squared_error(test, predicted_stock_price)\n",
    "rmse = np.sqrt(mse)\n",
    "print(\"RMSE: \",rmse)\n",
    "mape = metrics. mean_absolute_percentage_error(test, predicted_stock_price)\n",
    "accuracy = 100 - mape * 100\n",
    "print(f\"MAPE: {mape:.4f}\")\n",
    "print(f\"Approximate Accuracy: {accuracy:.2f}%\")\n"
   ]
  },
  {
   "cell_type": "code",
   "execution_count": null,
   "id": "75340123",
   "metadata": {},
   "outputs": [],
   "source": [
    "# Plot predicted vs actual stock prices\n",
    "plt.figure(figsize=(12, 6))\n",
    "plt.plot(test, color='blue', label='Actual Google Stock Price')\n",
    "plt.plot(predicted_stock_price, color='red', linestyle='--', label='Predicted Google Stock Price')\n",
    "plt.title('Google Stock Price Prediction')\n",
    "plt.xlabel('Time')\n",
    "plt.ylabel('Stock Price')\n",
    "plt.legend()\n",
    "plt.grid(True)\n",
    "plt.show()"
   ]
  }
 ],
 "metadata": {
  "language_info": {
   "name": "python"
  }
 },
 "nbformat": 4,
 "nbformat_minor": 5
}
