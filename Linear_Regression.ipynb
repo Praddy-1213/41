{
 "cells": [
  {
   "cell_type": "markdown",
   "id": "d09f8d09",
   "metadata": {},
   "source": [
    "# Linear Regression with Synthetic Data"
   ]
  },
  {
   "cell_type": "code",
   "execution_count": null,
   "id": "110add98",
   "metadata": {},
   "outputs": [],
   "source": [
    "#LINEAR REGRESSION\n",
    "import tensorflow as tf\n",
    "from sklearn.model_selection import train_test_split\n",
    "from sklearn.preprocessing import StandardScaler\n",
    "from sklearn import metrics\n",
    "import pandas as pd\n",
    "import numpy as np\n",
    "import matplotlib.pyplot as plt\n",
    "import seaborn as sns\n",
    "%matplotlib inline\n",
    "from tqdm.notebook import tqdm"
   ]
  },
  {
   "cell_type": "code",
   "execution_count": null,
   "id": "51ce38d5",
   "metadata": {},
   "outputs": [],
   "source": [
    "df = pd.read_csv('HousingData.csv')\n",
    "df.info()\n",
    "df.isna().sum()\n",
    "df.dropna(inplace=True)\n",
    "df.isna().sum()"
   ]
  },
  {
   "cell_type": "code",
   "execution_count": null,
   "id": "ece5c252",
   "metadata": {},
   "outputs": [],
   "source": [
    "x = df.drop(columns = ['MEDV'])\n",
    "y = df['MEDV']\n",
    "x_train, x_test,y_train, y_test = train_test_split(x,y,test_size=0.2)\n",
    "x_train.shape, y_train.shape, x_test.shape, y_test.shape\n",
    "scaler = StandardScaler()\n",
    "x_train_scaled = scaler.fit_transform(x_train)\n",
    "x_test_scaled = scaler.transform(x_test)\n"
   ]
  },
  {
   "cell_type": "code",
   "execution_count": null,
   "id": "677b8c03",
   "metadata": {},
   "outputs": [],
   "source": [
    "# y_train_scaled = scaler.fit_transform(y_train.reshape(-1, 1))\n",
    "# y_test_scaled = scaler.transform(y_test.reshape(-1, 1))\n",
    "model = tf.keras.models.Sequential([\n",
    "    tf.keras.layers.Input(shape=(13, ), name='input-layer'),\n",
    "    tf.keras.layers.Dense(100, activation = 'relu', name='hidden-layer-2'),\n",
    "    tf.keras.layers.BatchNormalization(name='hidden-layer-3'),\n",
    "    tf.keras.layers.Dense(50, activation = 'relu', name='hidden-layer-4'),\n",
    "    tf.keras.layers.Dense(1, name='output-layer')\n",
    "])\n"
   ]
  },
  {
   "cell_type": "code",
   "execution_count": null,
   "id": "e9c8d471",
   "metadata": {},
   "outputs": [],
   "source": [
    "tf.keras.utils.plot_model(model, show_shapes=True)\n",
    "model.summary()\n"
   ]
  },
  {
   "cell_type": "code",
   "execution_count": null,
   "id": "792336ef",
   "metadata": {},
   "outputs": [],
   "source": [
    "model.compile(optimizer='adam', loss='mse', metrics=['mae'])\n",
    "early_stop = tf.keras.callbacks.EarlyStopping(monitor='val_loss', patience=10, restore_best_weights=True)\n",
    "history = model.fit(x_train_scaled, y_train, validation_data=(x_test_scaled, y_test), epochs = 100, batch_size = 32, \n",
    "                    callbacks = [early_stop], verbose=1)\n"
   ]
  },
  {
   "cell_type": "code",
   "execution_count": null,
   "id": "45ec6d51",
   "metadata": {},
   "outputs": [],
   "source": [
    "pd.DataFrame(history.history).plot(figsize=(10,7))\n",
    "plt.title(\"Metrics graph\")\n",
    "plt.show()\n",
    "# y_pred = model.predict(x_test_scaled)\n",
    "y_pred = model.predict(x_test_scaled).flatten()\n",
    "sns.regplot(x=y_test, y=y_pred)\n",
    "plt.title(\"Regression Line for Predicted values\")\n",
    "plt.show()\n"
   ]
  },
  {
   "cell_type": "code",
   "execution_count": null,
   "id": "3d01b057",
   "metadata": {},
   "outputs": [],
   "source": [
    "def regression_metrics_display(y_test, y_pred):\n",
    "  print(f\"MAE is {metrics.mean_absolute_error(y_test, y_pred)}\")\n",
    "  print(f\"MSE is {metrics.mean_squared_error(y_test,y_pred)}\")\n",
    "  print(f\"R2 score is {metrics.r2_score(y_test, y_pred)}\")\n",
    "regression_metrics_display(y_test, y_pred)\n"
   ]
  }
 ],
 "metadata": {
  "language_info": {
   "name": "python"
  }
 },
 "nbformat": 4,
 "nbformat_minor": 5
}
